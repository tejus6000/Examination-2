{
  "nbformat": 4,
  "nbformat_minor": 0,
  "metadata": {
    "colab": {
      "provenance": []
    },
    "kernelspec": {
      "name": "python3",
      "display_name": "Python 3"
    },
    "language_info": {
      "name": "python"
    }
  },
  "cells": [
    {
      "cell_type": "code",
      "execution_count": 1,
      "metadata": {
        "id": "p82M0felENR1",
        "colab": {
          "base_uri": "https://localhost:8080/"
        },
        "outputId": "6e220040-583d-437f-d1b8-c7bab1915dd8"
      },
      "outputs": [
        {
          "output_type": "stream",
          "name": "stdout",
          "text": [
            "Looking in indexes: https://pypi.org/simple, https://us-python.pkg.dev/colab-wheels/public/simple/\n",
            "Collecting confluent_kafka\n",
            "  Downloading confluent_kafka-1.9.2-cp37-cp37m-manylinux_2_17_x86_64.manylinux2014_x86_64.whl (3.1 MB)\n",
            "\u001b[K     |████████████████████████████████| 3.1 MB 5.1 MB/s \n",
            "\u001b[?25hInstalling collected packages: confluent-kafka\n",
            "Successfully installed confluent-kafka-1.9.2\n"
          ]
        }
      ],
      "source": [
        "!pip install confluent_kafka"
      ]
    },
    {
      "cell_type": "code",
      "source": [
        "import time\n",
        "import json\n",
        "from uuid import uuid4\n",
        "from confluent_kafka import Producer"
      ],
      "metadata": {
        "id": "TWf9XlEMEUPe"
      },
      "execution_count": 2,
      "outputs": []
    },
    {
      "cell_type": "code",
      "source": [
        "f = open('unseenData.json.json')\n",
        "data = json.load(f)\n"
      ],
      "metadata": {
        "id": "R1u8GElWEUXo"
      },
      "execution_count": 3,
      "outputs": []
    },
    {
      "cell_type": "code",
      "source": [
        "def convert(lst):\n",
        "    res_dct = { i : lst[i] for i in range(0, len(lst))}\n",
        "    return res_dct\n",
        "\n",
        "dct = convert(data)\n",
        "print(dct)"
      ],
      "metadata": {
        "colab": {
          "base_uri": "https://localhost:8080/"
        },
        "id": "ExrjlOC_cyVH",
        "outputId": "28d63b6d-abc9-4f44-92e8-6aae2c34c128"
      },
      "execution_count": 4,
      "outputs": [
        {
          "output_type": "stream",
          "name": "stdout",
          "text": [
            "{0: {'FIELD1': 0, 'id': 0, 'major': 'Mathmatics', 'gender': 'M', 'c01': '86.06060606060606', 'c02': '82.08092485549133', 'c03': '75.5813953488372', 'c04': 61, 'c05': '63.898916967509024', 'c06': '79.72350230414746', 'c07': '80.92105263157895', 'c08': '74.67532467532467', 'c09': '86.44859813084112', 'c10': '91.94915254237289', 'academic': '78.23394735167086', 'campus': 10, 'internship': 5, 'AtRisk_academic': 0, 'AtRisk_campus': 0, 'AtRisk_internship': 0, 'At_Risk': 0, 'graduate_program': '0.4058926025724787', 'goverment': '0.40500366174121083', 'industry': '0.3450018908109034', 'placement': '1.1558981551245928', 'annual': '123269.80167967013'}, 1: {'FIELD1': 1, 'id': 1, 'major': 'Electric Engineering', 'gender': 'M', 'c01': '77.57575757575758', 'c02': '88.4393063583815', 'c03': '83.72093023255815', 'c04': 67.5, 'c05': '63.17689530685921', 'c06': '72.35023041474655', 'c07': '76.97368421052632', 'c08': '90.25974025974025', 'c09': '83.17757009345794', 'c10': '81.77966101694915', 'academic': '78.49537754689766', 'campus': 8, 'internship': 6, 'AtRisk_academic': 0, 'AtRisk_campus': 0, 'AtRisk_internship': 0, 'At_Risk': 0, 'graduate_program': '0.3879635803570772', 'goverment': '0.34002392351351673', 'industry': '0.34680578599562334', 'placement': '1.0747932898662171', 'annual': '127784.67203331518'}, 2: {'FIELD1': 2, 'id': 2, 'major': 'Electric Engineering', 'gender': 'F', 'c01': '70.3030303030303', 'c02': '78.61271676300578', 'c03': '69.76744186046511', 'c04': 56, 'c05': '54.87364620938628', 'c06': '72.35023041474655', 'c07': '74.34210526315789', 'c08': '82.46753246753246', 'c09': '72.89719626168224', 'c10': '81.35593220338983', 'academic': '71.29698317463964', 'campus': 3, 'internship': 9, 'AtRisk_academic': 1, 'AtRisk_campus': 1, 'AtRisk_internship': 0, 'At_Risk': 2, 'graduate_program': '0.21391390073692662', 'goverment': '0.15250939575365974', 'industry': '0.34428283663916326', 'placement': '0.7107061331297496', 'annual': '66317.8194274384'}, 3: {'FIELD1': 3, 'id': 3, 'major': 'Electric Engineering', 'gender': 'F', 'c01': '84.84848484848484', 'c02': '86.70520231213872', 'c03': '84.30232558139535', 'c04': 64.5, 'c05': '63.537906137184116', 'c06': '83.41013824884793', 'c07': '80.92105263157895', 'c08': '84.41558441558442', 'c09': '85.51401869158879', 'c10': '88.98305084745763', 'academic': '80.71377637142608', 'campus': 2, 'internship': 10, 'AtRisk_academic': 0, 'AtRisk_campus': 1, 'AtRisk_internship': 0, 'At_Risk': 1, 'graduate_program': '0.3688911565731687', 'goverment': '0.15803058089288388', 'industry': '0.38374328591141266', 'placement': '0.9106650233774651', 'annual': '122608.70283935191'}, 4: {'FIELD1': 4, 'id': 4, 'major': 'Mathmatics', 'gender': 'F', 'c01': '85.45454545454545', 'c02': '80.92485549132948', 'c03': '75.5813953488372', 'c04': 64.5, 'c05': '67.50902527075812', 'c06': '76.95852534562212', 'c07': '84.21052631578948', 'c08': '77.92207792207792', 'c09': '83.17757009345794', 'c10': '89.83050847457628', 'academic': '78.6069029716994', 'campus': 13, 'internship': 9, 'AtRisk_academic': 0, 'AtRisk_campus': 0, 'AtRisk_internship': 0, 'At_Risk': 0, 'graduate_program': '0.5018770204858777', 'goverment': '0.5474613698565087', 'industry': '0.4967405372542715', 'placement': '1.546078927596658', 'annual': '132840.0833227062'}}\n"
          ]
        }
      ]
    },
    {
      "cell_type": "code",
      "source": [
        "x = []\n",
        "for keys, value in dct.items():\n",
        "    x.append(keys)\n",
        "    print(keys)"
      ],
      "metadata": {
        "colab": {
          "base_uri": "https://localhost:8080/"
        },
        "id": "CKMzcgaatHqA",
        "outputId": "f6f89137-d05c-4d35-a179-85f1d69060d5"
      },
      "execution_count": 5,
      "outputs": [
        {
          "output_type": "stream",
          "name": "stdout",
          "text": [
            "0\n",
            "1\n",
            "2\n",
            "3\n",
            "4\n"
          ]
        }
      ]
    },
    {
      "cell_type": "code",
      "source": [
        "print(jsonv1)"
      ],
      "metadata": {
        "colab": {
          "base_uri": "https://localhost:8080/",
          "height": 165
        },
        "id": "-D073-UQeRIm",
        "outputId": "c5ec0ec7-63f6-4102-d298-0b83e5bfe178"
      },
      "execution_count": 6,
      "outputs": [
        {
          "output_type": "error",
          "ename": "NameError",
          "evalue": "ignored",
          "traceback": [
            "\u001b[0;31m---------------------------------------------------------------------------\u001b[0m",
            "\u001b[0;31mNameError\u001b[0m                                 Traceback (most recent call last)",
            "\u001b[0;32m<ipython-input-6-e221dd2f3590>\u001b[0m in \u001b[0;36m<module>\u001b[0;34m\u001b[0m\n\u001b[0;32m----> 1\u001b[0;31m \u001b[0mprint\u001b[0m\u001b[0;34m(\u001b[0m\u001b[0mjsonv1\u001b[0m\u001b[0;34m)\u001b[0m\u001b[0;34m\u001b[0m\u001b[0;34m\u001b[0m\u001b[0m\n\u001b[0m",
            "\u001b[0;31mNameError\u001b[0m: name 'jsonv1' is not defined"
          ]
        }
      ]
    },
    {
      "cell_type": "code",
      "source": [
        "jsonv1 = str(dct[0]).encode()\n",
        "jsonv2 = str(dct[1]).encode()\n",
        "jsonv3 = str(dct[2]).encode()\n",
        "jsonv4 = str(dct[3]).encode()\n",
        "jsonv5 = str(dct[4]).encode()"
      ],
      "metadata": {
        "id": "0W5MOYMHEUae"
      },
      "execution_count": 6,
      "outputs": []
    },
    {
      "cell_type": "code",
      "source": [
        "def delivery_report(errmsg, msg):\n",
        "    \"\"\"\n",
        "    Reports the Failure or Success of a message delivery.\n",
        "    Args:\n",
        "        errmsg  (KafkaError): The Error that occurred while message producing.\n",
        "        data    (Actual message): The message that was produced.\n",
        "    Note:\n",
        "        In the delivery report callback the Message.key() and Message.value()\n",
        "        will be the binary format as encoded by any configured Serializers and\n",
        "        not the same object that was passed to produce().\n",
        "        If you wish to pass the original object(s) for key and value to delivery\n",
        "        report callback we recommend a bound callback or lambda where you pass\n",
        "        the objects along.\n",
        "    \"\"\"   \n",
        "    if errmsg is not None:\n",
        "        print(\"Delivery failed for Message: {} : {}\".format(msg.key(), errmsg))\n",
        "        return\n",
        "    print('Message: {} successfully produced to Topic: {} Partition: [{}] at offset {}'.format(\n",
        "        msg.key(), msg.topic(), msg.partition(), msg.offset()))\n",
        "    print(str(uuid4()))\n"
      ],
      "metadata": {
        "id": "hwOyokUaEUfn"
      },
      "execution_count": 7,
      "outputs": []
    },
    {
      "cell_type": "code",
      "source": [
        "kafka_topic_name = \"customerOrders\""
      ],
      "metadata": {
        "id": "VhEFDxw_EUlD"
      },
      "execution_count": 8,
      "outputs": []
    },
    {
      "cell_type": "code",
      "source": [
        "#mysecret = \"yourjksPassword\""
      ],
      "metadata": {
        "id": "N4eWcndNEUq2"
      },
      "execution_count": null,
      "outputs": []
    },
    {
      "cell_type": "code",
      "source": [
        "print(\"Starting Kafka Producer\")   \n",
        "conf = {\n",
        "        'bootstrap.servers' : 'pkc-lzvrd.us-west4.gcp.confluent.cloud:9092',\n",
        "        'security.protocol' : 'SASL_SSL',\n",
        "        'sasl.mechanisms':'PLAIN',\n",
        "        'sasl.username':'K5O4CLAR3YZOFJID',\n",
        "        'sasl.password' : '2wEeF5wsKTvyIqnmtcusN5vrjgMjghBvUp8WThNGinuv5txYBwOTZoFzhOF6a+3P'\n",
        "        }"
      ],
      "metadata": {
        "id": "vcrfY0iTEUtl",
        "colab": {
          "base_uri": "https://localhost:8080/"
        },
        "outputId": "8321dc26-153d-41c5-df95-89d1e8b5f589"
      },
      "execution_count": 9,
      "outputs": [
        {
          "output_type": "stream",
          "name": "stdout",
          "text": [
            "Starting Kafka Producer\n"
          ]
        }
      ]
    },
    {
      "cell_type": "code",
      "source": [
        "print(\"connecting to Kafka topic...\")\n",
        "producer1 = Producer(conf)"
      ],
      "metadata": {
        "id": "FpYKke-pEUwP",
        "colab": {
          "base_uri": "https://localhost:8080/"
        },
        "outputId": "4cb9045e-f28e-45d4-c5a9-a7e931f1959d"
      },
      "execution_count": 10,
      "outputs": [
        {
          "output_type": "stream",
          "name": "stdout",
          "text": [
            "connecting to Kafka topic...\n"
          ]
        }
      ]
    },
    {
      "cell_type": "code",
      "source": [
        "producer1.poll(0)"
      ],
      "metadata": {
        "id": "rlkpfLU_EU11",
        "colab": {
          "base_uri": "https://localhost:8080/"
        },
        "outputId": "86199b70-9218-4683-8f30-6d76517da1e8"
      },
      "execution_count": 11,
      "outputs": [
        {
          "output_type": "execute_result",
          "data": {
            "text/plain": [
              "0"
            ]
          },
          "metadata": {},
          "execution_count": 11
        }
      ]
    },
    {
      "cell_type": "code",
      "source": [
        "try:\n",
        "    # Asynchronously produce a message, the delivery report callback\n",
        "    # will be triggered from poll() above, or flush() below, when the message has\n",
        "    # been successfully delivered or failed permanently.\n",
        "    producer1.produce(topic=kafka_topic_name, key=str(uuid4()), value=jsonv1, on_delivery=delivery_report)\n",
        "    producer1.produce(topic=kafka_topic_name, key=str(uuid4()), value=jsonv2, on_delivery=delivery_report)\n",
        "    producer1.produce(topic=kafka_topic_name, key=str(uuid4()), value=jsonv3, on_delivery=delivery_report)\n",
        "    producer1.produce(topic=kafka_topic_name, key=str(uuid4()), value=jsonv4, on_delivery=delivery_report)\n",
        "    producer1.produce(topic=kafka_topic_name, key=str(uuid4()), value=jsonv5, on_delivery=delivery_report)\n",
        "    \n",
        "    # Wait for any outstanding messages to be delivered and delivery report\n",
        "    # callbacks to be triggered.\n",
        "    producer1.flush()\n",
        "except Exception as ex:\n",
        "    print(\"Exception happened :\",ex)\n",
        "    print(\"\\n Stopping Kafka Producer\")"
      ],
      "metadata": {
        "id": "MthrD8S3EU_t",
        "colab": {
          "base_uri": "https://localhost:8080/"
        },
        "outputId": "ac88dc99-8018-4616-acc5-26fcb9be2d64"
      },
      "execution_count": 31,
      "outputs": [
        {
          "output_type": "stream",
          "name": "stdout",
          "text": [
            "Message: b'66c01552-7c22-42e3-9d70-24cb3dddf9d9' successfully produced to Topic: customerOrders Partition: [0] at offset 130\n",
            "a16d3299-7936-4726-ad6f-b55d8bb49754\n",
            "Message: b'dd1cac8a-5f5c-460b-8af1-7233b28d4964' successfully produced to Topic: customerOrders Partition: [0] at offset 131\n",
            "7f1b40dc-f252-4a3d-8f89-4c8d64a792e2\n",
            "Message: b'c9231dcd-4177-468c-9bb7-9f6d05916e95' successfully produced to Topic: customerOrders Partition: [1] at offset 141\n",
            "85646dbd-7099-4fd9-b5f6-dad5ea1bfd33\n",
            "Message: b'1392428f-e74a-4867-b9e8-6268ba6393e7' successfully produced to Topic: customerOrders Partition: [1] at offset 142\n",
            "3e6f8ede-4bb8-48b1-a0cc-297ae58c5615\n",
            "Message: b'a622c535-60e0-448f-999b-a1ad05b6e229' successfully produced to Topic: customerOrders Partition: [2] at offset 135\n",
            "cb414b7c-839e-4c17-94f7-85261204461f\n"
          ]
        }
      ]
    },
    {
      "cell_type": "code",
      "source": [
        "print(x[4])"
      ],
      "metadata": {
        "id": "tV45I9KmVGS-",
        "colab": {
          "base_uri": "https://localhost:8080/"
        },
        "outputId": "c888f424-39fd-464d-d05f-1fdb11f2acb1"
      },
      "execution_count": null,
      "outputs": [
        {
          "output_type": "stream",
          "name": "stdout",
          "text": [
            "4\n"
          ]
        }
      ]
    },
    {
      "cell_type": "code",
      "source": [],
      "metadata": {
        "id": "cmldw8X6eylJ"
      },
      "execution_count": null,
      "outputs": []
    }
  ]
}